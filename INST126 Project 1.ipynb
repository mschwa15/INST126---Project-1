{
 "cells": [
  {
   "cell_type": "code",
   "execution_count": 11,
   "metadata": {},
   "outputs": [
    {
     "name": "stdout",
     "output_type": "stream",
     "text": [
      "Choose an Operation: exponential\n",
      "Enter base value = 4\n",
      "Enter exponent = 3\n",
      "4  **  3  =  64\n"
     ]
    }
   ],
   "source": [
    "## Start by choosing betweeen \"addition\", \"subtraction\", \"multiplication\", \"division\", or \"exponential\"\n",
    "    ## IS CASE SENSITIVE \n",
    "    \n",
    "    \n",
    "## These lines are for addition only\n",
    "\n",
    "x = input(\"Choose an Operation: \")\n",
    "if x == \"addition\":\n",
    "    y = input(\"Addend1 = \")\n",
    "    z = input(\"Addend2 = \")\n",
    "    print(str(y), \" + \", str(z), \" = \",  int(y) + int(z))\n",
    "    \n",
    "## These lines are for subtraction only    \n",
    "    \n",
    "elif x == \"subtraction\":\n",
    "    y = input(\"Enter minuend = \")\n",
    "    z = input(\"Enter subtrahend = \")\n",
    "    print(str(y), \" - \", str(z), \" = \",  int(y) - int(z))\n",
    "    \n",
    "## These lines are for multiplication only    \n",
    "    \n",
    "elif x == \"multiplication\":\n",
    "    y = input(\"Factor1 = \")\n",
    "    z = input(\"Factor2 = \")\n",
    "    print(str(y), \" * \", str(z), \" = \",  int(y) * int(z))\n",
    "\n",
    "## These lines are for division only\n",
    "    \n",
    "elif x == \"division\":\n",
    "    y = input(\"Enter dividend = \")\n",
    "    z = input(\"Enter divisor = \")\n",
    "    print(str(y), \" / \", str(z), \" = \",  int(y) / int(z))\n",
    "    \n",
    "## The lines below are for calculating exponentials     \n",
    "    \n",
    "elif x == \"exponential\":\n",
    "    y = input(\"Enter base value = \")\n",
    "    z = input(\"Enter exponent = \")\n",
    "    print(str(y), \" ** \", str(z), \" = \",  int(y) ** int(z))"
   ]
  },
  {
   "cell_type": "code",
   "execution_count": null,
   "metadata": {},
   "outputs": [],
   "source": []
  }
 ],
 "metadata": {
  "kernelspec": {
   "display_name": "Python 3",
   "language": "python",
   "name": "python3"
  },
  "language_info": {
   "codemirror_mode": {
    "name": "ipython",
    "version": 3
   },
   "file_extension": ".py",
   "mimetype": "text/x-python",
   "name": "python",
   "nbconvert_exporter": "python",
   "pygments_lexer": "ipython3",
   "version": "3.8.5"
  }
 },
 "nbformat": 4,
 "nbformat_minor": 4
}
